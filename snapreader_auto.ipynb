{
 "cells": [
  {
   "cell_type": "markdown",
   "metadata": {},
   "source": [
    "# Lector de Snaps provenientes de simulaciones en GADGET code\n",
    "## Este NoteNook tiene como objetivo trabajar los datos que vienen de una simulación del nacimiento de protro estrellas.\n",
    "Las variables a leer son: la posición (x,y,z) de cada partícula, la velocidad (v<sub>x</sub>,v<sub>y</sub>,v<sub>z</sub>) y la dencidad.\n",
    "Con estos datos se dterminan los centros de masas para poder predecir su pocición en el tiempo."
   ]
  },
  {
   "cell_type": "markdown",
   "metadata": {},
   "source": [
    "### Importar\n",
    "Importamos las bibliotecas necesarias"
   ]
  },
  {
   "cell_type": "code",
   "execution_count": 45,
   "metadata": {},
   "outputs": [],
   "source": [
    "import matplotlib.pyplot as plt\n",
    "import numpy as np\n",
    "from pygadgetreader import *\n",
    "from pathlib import Path\n",
    "from mpl_toolkits.mplot3d import Axes3D\n",
    "from collections import OrderedDict\n",
    "import pandas as pd\n",
    "import matplotlib.colors as colors\n",
    "from scipy.signal import argrelextrema"
   ]
  },
  {
   "attachments": {},
   "cell_type": "markdown",
   "metadata": {},
   "source": [
    "### Inicializar\n",
    "Inicializamos las variables de almacenamiento de los datos de los centros de masa y las Sanps desde una carpeta de origen externa y las almacenamos en una lista"
   ]
  },
  {
   "cell_type": "code",
   "execution_count": null,
   "metadata": {},
   "outputs": [],
   "source": []
  },
  {
   "cell_type": "code",
   "execution_count": 4,
   "metadata": {},
   "outputs": [],
   "source": [
    "open_snap = []\n",
    "for i in range(8):\n",
    "  link = \"/mnt/d/pt/snaps/snapshot_0070.\" + str(i)\n",
    "  path_snap = Path(link)\n",
    "  open_snap.append(open(path_snap))"
   ]
  },
  {
   "cell_type": "markdown",
   "metadata": {},
   "source": [
    "### Posiciones\n",
    "Usamos las funciones de pygadreader, obteniendo solo las partículas que estén en un rango determinado guardando los datos de id, posición y densidad en listas."
   ]
  },
  {
   "cell_type": "code",
   "execution_count": 10,
   "metadata": {},
   "outputs": [],
   "source": [
    "pid = []\n",
    "pos_x = []\n",
    "pos_y = []\n",
    "pos_z = []\n",
    "rho = []\n",
    "vel_x = []\n",
    "vel_y = []\n",
    "vel_z = []"
   ]
  },
  {
   "cell_type": "code",
   "execution_count": 11,
   "metadata": {},
   "outputs": [],
   "source": [
    "def reducir_rango():\n",
    "  for e in range(8):\n",
    "    pid_pr = readsnap(open_snap[e].name,\"pid\",\"gas\")\n",
    "    pos_pr = readsnap(open_snap[e].name,\"pos\",\"gas\")\n",
    "    rho_pr = readsnap(open_snap[e].name,\"rho\",\"gas\")\n",
    "    vel_pr = readsnap(open_snap[e].name,\"vel\",\"gas\")\n",
    "\n",
    "    for i in range(len(pid_pr)):\n",
    "      if -0.5 <= pos_pr[i][0] <= 0.5 and -0.5 <= pos_pr[i][1] <= 0.5 and -0.1 <= pos_pr[i][2] <= 0.1:\n",
    "        pid.append(pid_pr[i])\n",
    "        pos_x.append(pos_pr[i][0])\n",
    "        pos_y.append(pos_pr[i][1])\n",
    "        pos_z.append(pos_pr[i][2])\n",
    "        vel_x.append(vel_pr[i][0])\n",
    "        vel_y.append(vel_pr[i][1])\n",
    "        vel_z.append(vel_pr[i][2])\n",
    "        rho.append(rho_pr[i])    "
   ]
  },
  {
   "cell_type": "code",
   "execution_count": 12,
   "metadata": {},
   "outputs": [
    {
     "name": "stdout",
     "output_type": "stream",
     "text": [
      "Returning GAS   Particle IDs\n",
      "Returning GAS   Positions\n",
      "Returning GAS   Density\n",
      "Returning GAS   Velocities\n",
      "Returning GAS   Particle IDs\n",
      "Returning GAS   Positions\n",
      "Returning GAS   Density\n",
      "Returning GAS   Velocities\n",
      "Returning GAS   Particle IDs\n",
      "Returning GAS   Positions\n",
      "Returning GAS   Density\n",
      "Returning GAS   Velocities\n",
      "Returning GAS   Particle IDs\n",
      "Returning GAS   Positions\n",
      "Returning GAS   Density\n",
      "Returning GAS   Velocities\n",
      "Returning GAS   Particle IDs\n",
      "Returning GAS   Positions\n",
      "Returning GAS   Density\n",
      "Returning GAS   Velocities\n",
      "Returning GAS   Particle IDs\n",
      "Returning GAS   Positions\n",
      "Returning GAS   Density\n",
      "Returning GAS   Velocities\n",
      "Returning GAS   Particle IDs\n",
      "Returning GAS   Positions\n",
      "Returning GAS   Density\n",
      "Returning GAS   Velocities\n",
      "Returning GAS   Particle IDs\n",
      "Returning GAS   Positions\n",
      "Returning GAS   Density\n",
      "Returning GAS   Velocities\n"
     ]
    }
   ],
   "source": [
    "reducir_rango()"
   ]
  },
  {
   "cell_type": "code",
   "execution_count": 13,
   "metadata": {},
   "outputs": [],
   "source": [
    "df = pd.DataFrame()\n",
    "df[\"Id\"] = pid\n",
    "df[\"Posicion_x\"] = pos_x\n",
    "df[\"Posicion_y\"] = pos_y\n",
    "df[\"Posicion_z\"] = pos_z\n",
    "df[\"Velocidad_x\"] = vel_x\n",
    "df[\"Velocidad_y\"] = vel_y\n",
    "df[\"Velocidad_z\"] = vel_z\n",
    "df[\"Densidad\"] = rho\n",
    "df = df.drop_duplicates(df.columns[~df.columns.isin([\"Id\"])],keep=\"first\")"
   ]
  },
  {
   "cell_type": "code",
   "execution_count": 14,
   "metadata": {},
   "outputs": [],
   "source": [
    "df[\"Posicion_x\"] = np.round(df[\"Posicion_x\"], decimals=2)\n",
    "df[\"Posicion_y\"] = np.round(df[\"Posicion_y\"], decimals=2)"
   ]
  },
  {
   "cell_type": "code",
   "execution_count": 15,
   "metadata": {},
   "outputs": [],
   "source": [
    "df_complp = df.drop([\"Id\"], axis=1)\n",
    "df = df.drop([\"Id\"], axis=1)\n",
    "df = df.drop([\"Posicion_z\"], axis=1)\n",
    "df = df.drop([\"Velocidad_x\"], axis=1)\n",
    "df = df.drop([\"Velocidad_y\"], axis=1)\n",
    "df = df.drop([\"Velocidad_z\"], axis=1)"
   ]
  },
  {
   "cell_type": "code",
   "execution_count": 16,
   "metadata": {},
   "outputs": [
    {
     "data": {
      "text/html": [
       "<div>\n",
       "<style scoped>\n",
       "    .dataframe tbody tr th:only-of-type {\n",
       "        vertical-align: middle;\n",
       "    }\n",
       "\n",
       "    .dataframe tbody tr th {\n",
       "        vertical-align: top;\n",
       "    }\n",
       "\n",
       "    .dataframe thead th {\n",
       "        text-align: right;\n",
       "    }\n",
       "</style>\n",
       "<table border=\"1\" class=\"dataframe\">\n",
       "  <thead>\n",
       "    <tr style=\"text-align: right;\">\n",
       "      <th></th>\n",
       "      <th></th>\n",
       "      <th>Densidad</th>\n",
       "    </tr>\n",
       "    <tr>\n",
       "      <th>Posicion_x</th>\n",
       "      <th>Posicion_y</th>\n",
       "      <th></th>\n",
       "    </tr>\n",
       "  </thead>\n",
       "  <tbody>\n",
       "    <tr>\n",
       "      <th rowspan=\"5\" valign=\"top\">-0.5</th>\n",
       "      <th>-0.50</th>\n",
       "      <td>0.155679</td>\n",
       "    </tr>\n",
       "    <tr>\n",
       "      <th>-0.49</th>\n",
       "      <td>0.215765</td>\n",
       "    </tr>\n",
       "    <tr>\n",
       "      <th>-0.48</th>\n",
       "      <td>0.240297</td>\n",
       "    </tr>\n",
       "    <tr>\n",
       "      <th>-0.47</th>\n",
       "      <td>0.253843</td>\n",
       "    </tr>\n",
       "    <tr>\n",
       "      <th>-0.46</th>\n",
       "      <td>0.275679</td>\n",
       "    </tr>\n",
       "    <tr>\n",
       "      <th>...</th>\n",
       "      <th>...</th>\n",
       "      <td>...</td>\n",
       "    </tr>\n",
       "    <tr>\n",
       "      <th rowspan=\"5\" valign=\"top\">0.5</th>\n",
       "      <th>0.46</th>\n",
       "      <td>0.282891</td>\n",
       "    </tr>\n",
       "    <tr>\n",
       "      <th>0.47</th>\n",
       "      <td>0.255685</td>\n",
       "    </tr>\n",
       "    <tr>\n",
       "      <th>0.48</th>\n",
       "      <td>0.222872</td>\n",
       "    </tr>\n",
       "    <tr>\n",
       "      <th>0.49</th>\n",
       "      <td>0.204076</td>\n",
       "    </tr>\n",
       "    <tr>\n",
       "      <th>0.50</th>\n",
       "      <td>0.212614</td>\n",
       "    </tr>\n",
       "  </tbody>\n",
       "</table>\n",
       "<p>10193 rows × 1 columns</p>\n",
       "</div>"
      ],
      "text/plain": [
       "                       Densidad\n",
       "Posicion_x Posicion_y          \n",
       "-0.5       -0.50       0.155679\n",
       "           -0.49       0.215765\n",
       "           -0.48       0.240297\n",
       "           -0.47       0.253843\n",
       "           -0.46       0.275679\n",
       "...                         ...\n",
       " 0.5        0.46       0.282891\n",
       "            0.47       0.255685\n",
       "            0.48       0.222872\n",
       "            0.49       0.204076\n",
       "            0.50       0.212614\n",
       "\n",
       "[10193 rows x 1 columns]"
      ]
     },
     "execution_count": 16,
     "metadata": {},
     "output_type": "execute_result"
    }
   ],
   "source": [
    "df = df.groupby(by=[\"Posicion_x\", \"Posicion_y\"]).mean()\n",
    "df"
   ]
  },
  {
   "cell_type": "code",
   "execution_count": 17,
   "metadata": {},
   "outputs": [],
   "source": [
    "x_graf = []\n",
    "y_graf = []\n",
    "#rho_graf = []\n",
    "for i in range(len(df)):\n",
    "  x_graf.append(df.index[i][0])\n",
    "  y_graf.append(df.index[i][1])\n",
    "dfn = pd.DataFrame()\n",
    "dfn[\"Posicion_x\"] = x_graf\n",
    "dfn[\"Posicion_y\"] = y_graf\n",
    "dfn[\"Densidad\"] = df[\"Densidad\"].values"
   ]
  },
  {
   "cell_type": "code",
   "execution_count": 20,
   "metadata": {},
   "outputs": [
    {
     "data": {
      "text/plain": [
       "[<matplotlib.lines.Line2D at 0x7fcba1342410>]"
      ]
     },
     "execution_count": 20,
     "metadata": {},
     "output_type": "execute_result"
    },
    {
     "data": {
      "image/png": "[encoded data removed]",
      "text/plain": [
       "<Figure size 432x288 with 1 Axes>"
      ]
     },
     "metadata": {
      "needs_background": "light"
     },
     "output_type": "display_data"
    }
   ],
   "source": [
    "plt.plot(dfn[\"Posicion_x\"], dfn[\"Densidad\"])"
   ]
  },
  {
   "cell_type": "code",
   "execution_count": 26,
   "metadata": {},
   "outputs": [
    {
     "data": {
      "text/plain": [
       "[<matplotlib.lines.Line2D at 0x7fcba63797b0>]"
      ]
     },
     "execution_count": 26,
     "metadata": {},
     "output_type": "execute_result"
    },
    {
     "data": {
      "image/png": "[encoded data removed]",
      "text/plain": [
       "<Figure size 432x288 with 1 Axes>"
      ]
     },
     "metadata": {
      "needs_background": "light"
     },
     "output_type": "display_data"
    }
   ],
   "source": [
    "dfaux = dfn.sort_values(\"Posicion_y\")\n",
    "dfaux.head()\n",
    "plt.plot(dfaux[\"Posicion_y\"], dfaux[\"Densidad\"])"
   ]
  },
  {
   "cell_type": "code",
   "execution_count": 22,
   "metadata": {},
   "outputs": [
    {
     "data": {
      "image/png": "[encoded data removed]",
      "text/plain": [
       "<Figure size 432x288 with 2 Axes>"
      ]
     },
     "metadata": {
      "needs_background": "light"
     },
     "output_type": "display_data"
    }
   ],
   "source": [
    "s = plt.scatter(dfn[\"Posicion_x\"], dfn[\"Posicion_y\"], c=dfn[\"Densidad\"], cmap=\"turbo\", norm=colors.PowerNorm(0.3))\n",
    "c = plt.colorbar()\n",
    "plt.clim(vmin=df[\"Densidad\"].min(), vmax=df[\"Densidad\"].max())"
   ]
  },
  {
   "cell_type": "code",
   "execution_count": 65,
   "metadata": {},
   "outputs": [
    {
     "name": "stdout",
     "output_type": "stream",
     "text": [
      "2\n",
      "[12760.972, 12227.067]\n"
     ]
    },
    {
     "data": {
      "text/plain": [
       "[[-0.15000000596046448, -0.14000000059604645],\n",
       " [0.15000000596046448, 0.14000000059604645]]"
      ]
     },
     "execution_count": 65,
     "metadata": {},
     "output_type": "execute_result"
    }
   ],
   "source": [
    "picos = []\n",
    "px = []\n",
    "py = []\n",
    "maximos = []\n",
    "pos_pic = []\n",
    "pk = []\n",
    "N = 0\n",
    "maxi = dfn[\"Densidad\"].max()*0.1\n",
    "for i in range(len(dfn)):\n",
    "  if dfn[\"Densidad\"][i] > dfn[\"Densidad\"].max()*0.1:\n",
    "    if dfn[\"Densidad\"][i] > maxi:\n",
    "      maxi = dfn[\"Densidad\"][i]\n",
    "    else:\n",
    "      picos.append(maxi)\n",
    "      px.append(dfn[\"Posicion_x\"][i-1])\n",
    "      maxi = dfn[\"Densidad\"].max()*0.1\n",
    "for i in range(len(dfaux)):\n",
    "  if dfaux[\"Densidad\"][i] > dfaux[\"Densidad\"].max()*0.1:\n",
    "    if dfaux[\"Densidad\"][i] > maxi:\n",
    "      maxi = dfaux[\"Densidad\"][i]\n",
    "    else:\n",
    "      picos.append(maxi)\n",
    "      py.append(dfn[\"Posicion_y\"][i-1])\n",
    "      maxi = dfaux[\"Densidad\"].max()*0.1\n",
    "pk = argrelextrema(np.array(picos), np.greater)\n",
    "N = len(pk[0])\n",
    "for i in range(N):\n",
    "  maximos.append(picos[pk[0][i]])\n",
    "maximos = list(set(maximos))\n",
    "N = len(maximos)\n",
    "for i in range(N):\n",
    "  pos_pic.append([px[pk[0][i]], py[pk[0][i]]])\n",
    "print(N)\n",
    "print(maximos)\n",
    "pos_pic"
   ]
  },
  {
   "cell_type": "code",
   "execution_count": 73,
   "metadata": {},
   "outputs": [
    {
     "data": {
      "text/plain": [
       "-0.14000000059604645"
      ]
     },
     "execution_count": 73,
     "metadata": {},
     "output_type": "execute_result"
    }
   ],
   "source": [
    "pos_pic[0][1]"
   ]
  },
  {
   "cell_type": "code",
   "execution_count": 76,
   "metadata": {},
   "outputs": [],
   "source": [
    "def rangos(n):\n",
    "  check = 0\n",
    "  rango_i_x = pos_pic[n][0]\n",
    "  rango_f_x = pos_pic[n][0]\n",
    "  rango_i_y = pos_pic[n][1]\n",
    "  rango_f_y = pos_pic[n][1]\n",
    "  for i in range(len(df_complp)):\n",
    "    if df_complp[\"Densidad\"][i] >= maximos[n]*0.01:\n",
    "      for e in range(N):\n",
    "        if e != n and abs(df_complp[\"Posicion_x\"][i]-pos_pic[n][0]) > abs(df_complp[\"Posicion_x\"][i]-pos_pic[e][0]) and abs(df_complp[\"Posicion_y\"][i]-pos_pic[n][1]) > abs(df_complp[\"Posicion_y\"][i]-pos_pic[e][1]):\n",
    "          check = 1\n",
    "      if check == 0:\n",
    "        if df_complp[\"Posicion_x\"][i] < rango_i_x:\n",
    "          rango_i_x = df_complp[\"Posicion_x\"][i]\n",
    "        elif df_complp[\"Posicion_x\"][i] > rango_f_x:\n",
    "          rango_f_x = df_complp[\"Posicion_x\"][i]\n",
    "        if df_complp[\"Posicion_y\"][i] < rango_i_y:\n",
    "          rango_i_y = df_complp[\"Posicion_y\"][i]\n",
    "        elif df_complp[\"Posicion_y\"][i] > rango_f_y:\n",
    "          rango_f_y = df_complp[\"Posicion_y\"][i]\n",
    "  return [rango_i_x, rango_f_x, rango_i_y, rango_f_y]"
   ]
  },
  {
   "cell_type": "code",
   "execution_count": 77,
   "metadata": {},
   "outputs": [
    {
     "data": {
      "text/plain": [
       "[-0.18, -0.06, -0.19, -0.05]"
      ]
     },
     "execution_count": 77,
     "metadata": {},
     "output_type": "execute_result"
    }
   ],
   "source": [
    "ran = rangos(0)\n",
    "ran"
   ]
  },
  {
   "cell_type": "code",
   "execution_count": 79,
   "metadata": {},
   "outputs": [],
   "source": [
    "def centro_masa(n):\n",
    "  sum_x = 0\n",
    "  sum_y = 0\n",
    "  sum_z = 0\n",
    "  sumv_x = 0\n",
    "  sumv_y = 0\n",
    "  sumv_z = 0\n",
    "  masa = 0\n",
    "  cont = 0\n",
    "  rango = rangos(n)\n",
    "  for i in range(len(df_complp)):\n",
    "    if rango[0] <= df_complp[\"Posicion_x\"][i] <= rango[1] and rango[2] <= df_complp[\"Posicion_y\"][i] <= rango[3]:\n",
    "      sum_x = sum_x+(df_complp[\"Posicion_x\"][i]*df_complp[\"Densidad\"][i])\n",
    "      sum_y = sum_y+(df_complp[\"Posicion_y\"][i]*df_complp[\"Densidad\"][i])\n",
    "      sum_z = sum_z+(df_complp[\"Posicion_z\"][i]*df_complp[\"Densidad\"][i])\n",
    "      sumv_x = sumv_x+(df_complp[\"Velocidad_x\"][i]*df_complp[\"Densidad\"][i])\n",
    "      sumv_y = sumv_y+(df_complp[\"Velocidad_y\"][i]*df_complp[\"Densidad\"][i])\n",
    "      sumv_z = sumv_z+(df_complp[\"Velocidad_z\"][i]*df_complp[\"Densidad\"][i])\n",
    "      cont = cont + 1\n",
    "      masa = masa+df_complp[\"Densidad\"][i]\n",
    "  x_cm = sum_x/masa\n",
    "  y_cm = sum_y/masa\n",
    "  z_cm = sum_z/masa\n",
    "  vel_x_cm = sumv_x/masa\n",
    "  vel_y_cm = sumv_y/masa\n",
    "  vel_z_cm = sumv_z/masa\n",
    "  return [x_cm, y_cm, z_cm, vel_x_cm, vel_y_cm, vel_z_cm, masa, cont, rango]"
   ]
  },
  {
   "cell_type": "code",
   "execution_count": 81,
   "metadata": {},
   "outputs": [
    {
     "data": {
      "text/plain": [
       "[-0.14849105539296215,\n",
       " -0.14238797376175402,\n",
       " 0.0012869146842591401,\n",
       " 0.6433810831393065,\n",
       " -0.1463237689873149,\n",
       " 0.00660714643601253,\n",
       " 1273166111.7482116,\n",
       " 328610,\n",
       " [-0.18, -0.06, -0.19, -0.05]]"
      ]
     },
     "execution_count": 81,
     "metadata": {},
     "output_type": "execute_result"
    }
   ],
   "source": [
    "cm = centro_masa(0)\n",
    "cm"
   ]
  }
 ],
 "metadata": {
  "kernelspec": {
   "display_name": "Python 3.10.6 64-bit",
   "language": "python",
   "name": "python3"
  },
  "language_info": {
   "codemirror_mode": {
    "name": "ipython",
    "version": 3
   },
   "file_extension": ".py",
   "mimetype": "text/x-python",
   "name": "python",
   "nbconvert_exporter": "python",
   "pygments_lexer": "ipython3",
   "version": "3.10.6 (main, Nov 14 2022, 16:10:14) [GCC 11.3.0]"
  },
  "orig_nbformat": 4,
  "vscode": {
   "interpreter": {
    "hash": "916dbcbb3f70747c44a77c7bcd40155683ae19c65e1c03b4aa3499c5328201f1"
   }
  }
 },
 "nbformat": 4,
 "nbformat_minor": 2
}
